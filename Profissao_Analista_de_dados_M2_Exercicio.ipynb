{
  "nbformat": 4,
  "nbformat_minor": 0,
  "metadata": {
    "colab": {
      "provenance": [],
      "toc_visible": true
    },
    "kernelspec": {
      "name": "python3",
      "display_name": "Python 3"
    }
  },
  "cells": [
    {
      "cell_type": "markdown",
      "metadata": {
        "id": "KJqp9AANOCtf"
      },
      "source": [
        "<img src=\"https://raw.githubusercontent.com/andre-marcos-perez/ebac-course-utils/main/media/logo/newebac_logo_black_half.png\" alt=\"ebac-logo\">\n",
        "\n",
        "---\n",
        "\n",
        "# **Módulo** | Python: Estruturas de Dados\n",
        "Caderno de **Exercícios**<br>\n",
        "Professor [André Perez](https://www.linkedin.com/in/andremarcosperez/)\n",
        "\n",
        "---"
      ]
    },
    {
      "cell_type": "markdown",
      "metadata": {
        "id": "d9jDtUbDOE1-"
      },
      "source": [
        "# **Tópicos**\n",
        "\n",
        "<ol type=\"1\">\n",
        "  <li>Listas;</li>\n",
        "  <li>Conjuntos;</li>\n",
        "  <li>Dicionários.</li>\n",
        "</ol>"
      ]
    },
    {
      "cell_type": "markdown",
      "metadata": {
        "id": "SmoHgt-lwkpD"
      },
      "source": [
        "---"
      ]
    },
    {
      "cell_type": "markdown",
      "metadata": {
        "id": "GABI6OW8OfQ2"
      },
      "source": [
        "# **Exercícios**"
      ]
    },
    {
      "cell_type": "markdown",
      "metadata": {
        "id": "muD1vxozykSC"
      },
      "source": [
        "## 1\\. Listas"
      ]
    },
    {
      "cell_type": "markdown",
      "metadata": {
        "id": "ahrFfCuBxJKs"
      },
      "source": [
        "Criei uma lista chamada `filmes` com o nome dos 10 primeiros filmes mais bem avaliados no site no [IMDB](https://www.imdb.com/chart/top/). Imprima o resultado."
      ]
    },
    {
      "cell_type": "code",
      "metadata": {
        "id": "OgL6Hv3bzOHI",
        "colab": {
          "base_uri": "https://localhost:8080/"
        },
        "outputId": "301cb7d5-f38d-41fa-8435-d33b54f94fe2"
      },
      "source": [
        "filmes =['Um Sonho de Liberdade', 'O Poderoso Chefão', 'Batman - O Cavaleiro das Trevas', 'O Poderoso Chefão II', '12 Homens e uma Sentença', 'A Lista de Schindler', 'O Senhor dos Anéis: O Retorno do Rei', 'Pulp Fiction - Tempo de Violência', 'O Senhor dos Anéis: A Sociedade do Anel', 'Três Homens em Conflito']\n",
        "print(filmes)"
      ],
      "execution_count": 122,
      "outputs": [
        {
          "output_type": "stream",
          "name": "stdout",
          "text": [
            "['Um Sonho de Liberdade', 'O Poderoso Chefão', 'Batman - O Cavaleiro das Trevas', 'O Poderoso Chefão II', '12 Homens e uma Sentença', 'A Lista de Schindler', 'O Senhor dos Anéis: O Retorno do Rei', 'Pulp Fiction - Tempo de Violência', 'O Senhor dos Anéis: A Sociedade do Anel', 'Três Homens em Conflito']\n"
          ]
        }
      ]
    },
    {
      "cell_type": "markdown",
      "metadata": {
        "id": "KI9zQRT2xa7m"
      },
      "source": [
        "Simule a movimentação do *ranking*. Utilize os métodos `insert` e `pop` para trocar a posição do primeiro e do segundo filme da lista. Imprima o resultado.\n",
        "\n"
      ]
    },
    {
      "cell_type": "code",
      "metadata": {
        "id": "zX3mA3_GzrXH",
        "colab": {
          "base_uri": "https://localhost:8080/"
        },
        "outputId": "f6d5412d-69ea-47cd-c7eb-a40e6e19891c"
      },
      "source": [
        "filmes.insert(0,'O Poderoso Chefão')\n",
        "filmes.pop(2)\n",
        "\n",
        "print(filmes)"
      ],
      "execution_count": 84,
      "outputs": [
        {
          "output_type": "stream",
          "name": "stdout",
          "text": [
            "['O Poderoso Chefão', 'Um Sonho de Liberdade', 'Batman - O Cavaleiro das Trevas', 'O Poderoso Chefão II', '12 Homens e uma Sentença', 'A Lista de Schindler', 'O Senhor dos Anéis: O Retorno do Rei', 'Pulp Fiction - Tempo de Violência', 'O Senhor dos Anéis: A Sociedade do Anel', 'Três Homens em Conflito']\n"
          ]
        }
      ]
    },
    {
      "cell_type": "markdown",
      "metadata": {
        "id": "zMN1Q3jdwoJm"
      },
      "source": [
        "---"
      ]
    },
    {
      "cell_type": "markdown",
      "metadata": {
        "id": "lxa5L6uF0ZJE"
      },
      "source": [
        "## 2\\. Conjuntos"
      ]
    },
    {
      "cell_type": "markdown",
      "metadata": {
        "id": "9JahS2Kj0d5u"
      },
      "source": [
        "Aconteceu um erro no seu *ranking*. Simule a duplicação dos três últimos filmes da lista. Imprima o resultado."
      ]
    },
    {
      "cell_type": "code",
      "metadata": {
        "id": "BnjnLBNC6PGe",
        "colab": {
          "base_uri": "https://localhost:8080/"
        },
        "outputId": "768a3690-a30a-44a3-a38d-9fa89d483a09"
      },
      "source": [
        "filmes.append('Pulp Fiction - Tempo de Violência')\n",
        "filmes.append('O Senhor dos Anéis: A Sociedade do Anel')\n",
        "filmes.append('Três Homens em Conflito')\n",
        "\n",
        "print(filmes)"
      ],
      "execution_count": 85,
      "outputs": [
        {
          "output_type": "stream",
          "name": "stdout",
          "text": [
            "['O Poderoso Chefão', 'Um Sonho de Liberdade', 'Batman - O Cavaleiro das Trevas', 'O Poderoso Chefão II', '12 Homens e uma Sentença', 'A Lista de Schindler', 'O Senhor dos Anéis: O Retorno do Rei', 'Pulp Fiction - Tempo de Violência', 'O Senhor dos Anéis: A Sociedade do Anel', 'Três Homens em Conflito', 'Pulp Fiction - Tempo de Violência', 'O Senhor dos Anéis: A Sociedade do Anel', 'Três Homens em Conflito']\n"
          ]
        }
      ]
    },
    {
      "cell_type": "markdown",
      "metadata": {
        "id": "suxTfCJB6ZiX"
      },
      "source": [
        "Utiliza a conversão `set` e `list` para remover os valores duplicados. Imprima o resultado."
      ]
    },
    {
      "cell_type": "code",
      "metadata": {
        "id": "ZvUGN-0n6joM",
        "colab": {
          "base_uri": "https://localhost:8080/"
        },
        "outputId": "e96e608f-e6a3-4240-e3a7-a318fd34088f"
      },
      "source": [
        "filmes = (list(set(filmes)))\n",
        "print(filmes)"
      ],
      "execution_count": 99,
      "outputs": [
        {
          "output_type": "stream",
          "name": "stdout",
          "text": [
            "['A Lista de Schindler', 'O Poderoso Chefão II', 'Batman - O Cavaleiro das Trevas', 'O Poderoso Chefão', 'Pulp Fiction - Tempo de Violência', 'Um Sonho de Liberdade', 'O Senhor dos Anéis: A Sociedade do Anel', 'O Senhor dos Anéis: O Retorno do Rei', '12 Homens e uma Sentença', 'Três Homens em Conflito']\n"
          ]
        }
      ]
    },
    {
      "cell_type": "markdown",
      "metadata": {
        "id": "ShkK35eQ6pAM"
      },
      "source": [
        "---"
      ]
    },
    {
      "cell_type": "markdown",
      "metadata": {
        "id": "EL_FzmxL6rTv"
      },
      "source": [
        "## 3\\. Dicionários"
      ]
    },
    {
      "cell_type": "markdown",
      "metadata": {
        "id": "i8l0gFqRCpfT"
      },
      "source": [
        "Repita os exercícios da parte 1 (listas). Os elementos da lista `filmes` devem ser dicionários no seguinte formato: `{'nome': <nome-do-filme>, 'ano': <ano do filme>, 'sinopse': <sinopse do filme>}`."
      ]
    },
    {
      "cell_type": "code",
      "metadata": {
        "id": "tu6MSFwGDnHv"
      },
      "source": [
        "ranking_filmes= []"
      ],
      "execution_count": 124,
      "outputs": []
    },
    {
      "cell_type": "code",
      "source": [
        "filme = {'nome': 'Um Sonho de Liberdade', 'ano': '1994', 'sinopse': 'Dois homens presos se reúnem ao longo de vários anos, encontrando consolo e eventual redenção através de atos de decência comum.'}\n",
        "ranking_filmes.append(filme)"
      ],
      "metadata": {
        "id": "GMG12u1ooFSe"
      },
      "execution_count": 125,
      "outputs": []
    },
    {
      "cell_type": "code",
      "source": [
        "filme = {'nome': 'O Poderoso Chefão', 'ano': '1972', 'sinopse': 'O patriarca idoso de uma dinastia do crime organizado transfere o controle de seu império clandestino para seu filho relutante.'}\n",
        "ranking_filmes.append(filme)"
      ],
      "metadata": {
        "id": "mEbX-J30ofAC"
      },
      "execution_count": 126,
      "outputs": []
    },
    {
      "cell_type": "code",
      "source": [
        "filme = {'nome': 'Batman - O Cavaleiro das Trevas', 'ano': '2008', 'sinopse': 'Agora com a ajuda do tenente Jim Gordon e do promotor público Harvey Dent, Batman tem tudo para banir o crime de Gotham City de uma vez por todas.'}\n",
        "ranking_filmes.append(filme)"
      ],
      "metadata": {
        "id": "3L14mZfCoysS"
      },
      "execution_count": 127,
      "outputs": []
    },
    {
      "cell_type": "code",
      "source": [
        "filme = {'nome': 'O Poderoso Chefão II', 'ano': '1974', 'sinopse': 'Em 1950, Michael Corleone, agora à frente da família, tenta expandir o negócio do crime a Las Vegas, Los Angeles e Cuba.'}\n",
        "ranking_filmes.append(filme)"
      ],
      "metadata": {
        "id": "P8s7CF3lpA9U"
      },
      "execution_count": 128,
      "outputs": []
    },
    {
      "cell_type": "code",
      "source": [
        "filme = {'nome': '12 Homens e uma Sentença', 'ano': '1957', 'sinopse': 'O julgamento de um assassinato em Nova Iorque é frustrado por um único membro, cujo ceticismo força o júri a considerar cuidadosamente as evidências antes de dar o veredito.'}\n",
        "ranking_filmes.append(filme)"
      ],
      "metadata": {
        "id": "Jw41_IRepSJa"
      },
      "execution_count": 129,
      "outputs": []
    },
    {
      "cell_type": "code",
      "source": [
        "filme = {'nome': 'A Lista de Schindler', 'ano': '1993', 'sinopse': 'Na Polônia ocupada pelos alemães durante a Segunda Guerra Mundial, o industrial Oskar Schindler começa a ser preocupar com seus trabalhadores judeus depois de testemunhar sua perseguição pelos nazistas.'}\n",
        "ranking_filmes.append(filme)"
      ],
      "metadata": {
        "id": "sTcocY6qpwTY"
      },
      "execution_count": 130,
      "outputs": []
    },
    {
      "cell_type": "code",
      "source": [
        "filme = {'nome': 'O Senhor dos Anéis: O Retorno do Rei', 'ano': '2003', 'sinopse': 'Gandalf e Aragorn lideram o Mundo dos Homens contra o exército de Sauron para desviar o olhar de Frodo e Sam quando eles se aproximam á Montanha da Perdição com o Um Anel.'}\n",
        "ranking_filmes.append(filme)"
      ],
      "metadata": {
        "id": "Nthwj4s7qAWH"
      },
      "execution_count": 132,
      "outputs": []
    },
    {
      "cell_type": "code",
      "source": [
        "filme = {'nome': 'Pulp Fiction - Tempo de Violência', 'ano': '1994', 'sinopse': 'As vidas de dois assassinos da máfia, um boxeador, um gângster e sua esposa, e um par de bandidos se entrelaçam em quatro histórias de violência e redenção.'}\n",
        "ranking_filmes.append(filme)"
      ],
      "metadata": {
        "id": "UEdnaUemqi1m"
      },
      "execution_count": 133,
      "outputs": []
    },
    {
      "cell_type": "code",
      "source": [
        "filme = {'nome': 'O Senhor dos Anéis: A Sociedade do Anel', 'ano': '2001', 'sinopse': 'Um manso hobbit do Condado e oito companheiros partem em uma jornada para destruir o poderoso Um Anel e salvar a Terra-média das Trevas.'}\n",
        "ranking_filmes.append(filme)"
      ],
      "metadata": {
        "id": "UoZiwMrBqr0v"
      },
      "execution_count": 136,
      "outputs": []
    },
    {
      "cell_type": "code",
      "source": [
        "filme = {'nome': 'Três Homens em Conflito', 'ano': '1966', 'sinopse': 'Um impostor se junta com dois homens para encontrar fortuna num remoto cemitério.'}\n",
        "ranking_filmes.append(filme)"
      ],
      "metadata": {
        "id": "jBNILocUq3qe"
      },
      "execution_count": 135,
      "outputs": []
    },
    {
      "cell_type": "code",
      "source": [
        "print(ranking_filmes)"
      ],
      "metadata": {
        "colab": {
          "base_uri": "https://localhost:8080/"
        },
        "id": "A_Qty7N3rKq1",
        "outputId": "58a972e5-de11-4eb0-ab0b-d30d511d94e5"
      },
      "execution_count": 138,
      "outputs": [
        {
          "output_type": "stream",
          "name": "stdout",
          "text": [
            "[{'nome': 'Um Sonho de Liberdade', 'ano': '1994', 'sinopse': 'Dois homens presos se reúnem ao longo de vários anos, encontrando consolo e eventual redenção através de atos de decência comum.'}, {'nome': 'O Poderoso Chefão', 'ano': '1972', 'sinopse': 'O patriarca idoso de uma dinastia do crime organizado transfere o controle de seu império clandestino para seu filho relutante.'}, {'nome': 'Batman - O Cavaleiro das Trevas', 'ano': '2008', 'sinopse': 'Agora com a ajuda do tenente Jim Gordon e do promotor público Harvey Dent, Batman tem tudo para banir o crime de Gotham City de uma vez por todas.'}, {'nome': 'O Poderoso Chefão II', 'ano': '1974', 'sinopse': 'Em 1950, Michael Corleone, agora à frente da família, tenta expandir o negócio do crime a Las Vegas, Los Angeles e Cuba.'}, {'nome': '12 Homens e uma Sentença', 'ano': '1957', 'sinopse': 'O julgamento de um assassinato em Nova Iorque é frustrado por um único membro, cujo ceticismo força o júri a considerar cuidadosamente as evidências antes de dar o veredito.'}, {'nome': 'A Lista de Schindler', 'ano': '1993', 'sinopse': 'Na Polônia ocupada pelos alemães durante a Segunda Guerra Mundial, o industrial Oskar Schindler começa a ser preocupar com seus trabalhadores judeus depois de testemunhar sua perseguição pelos nazistas.'}, {'nome': 'O Senhor dos Anéis: O Retorno do Rei', 'ano': '2003', 'sinopse': 'Gandalf e Aragorn lideram o Mundo dos Homens contra o exército de Sauron para desviar o olhar de Frodo e Sam quando eles se aproximam á Montanha da Perdição com o Um Anel.'}, {'nome': 'Pulp Fiction - Tempo de Violência', 'ano': '1994', 'sinopse': 'As vidas de dois assassinos da máfia, um boxeador, um gângster e sua esposa, e um par de bandidos se entrelaçam em quatro histórias de violência e redenção.'}, {'nome': 'O Senhor dos Anéis: A Sociedade do Anel', 'ano': '2001', 'sinopse': 'Um manso hobbit do Condado e oito companheiros partem em uma jornada para destruir o poderoso Um Anel e salvar a Terra-média das Trevas.'}, {'nome': 'Três Homens em Conflito', 'ano': '1966', 'sinopse': 'Um impostor se junta com dois homens para encontrar fortuna num remoto cemitério.'}, {'nome': 'O Senhor dos Anéis: A Sociedade do Anel', 'ano': '2001', 'sinopse': 'Um manso hobbit do Condado e oito companheiros partem em uma jornada para destruir o poderoso Um Anel e salvar a Terra-média das Trevas.'}]\n"
          ]
        }
      ]
    },
    {
      "cell_type": "markdown",
      "source": [
        "OBS: Fiz a atividade conforme ensinado no curso, ele até mostra outra maneira de fazer, mas só mostrou, e não ensinou como faz.![image.png](data:image/png;base64,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)"
      ],
      "metadata": {
        "id": "ubvvSzwsrTXT"
      }
    }
  ]
}